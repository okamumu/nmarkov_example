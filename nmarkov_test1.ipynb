{
 "cells": [
  {
   "cell_type": "code",
   "execution_count": 1,
   "metadata": {},
   "outputs": [],
   "source": [
    "import numpy as np\n",
    "import scipy.sparse as sp\n",
    "import nmarkov as nm\n",
    "import matplotlib.pyplot as plt\n",
    "import scipy.stats as st"
   ]
  },
  {
   "cell_type": "code",
   "execution_count": 2,
   "metadata": {},
   "outputs": [
    {
     "data": {
      "text/plain": [
       "0.3032653298563167"
      ]
     },
     "execution_count": 2,
     "metadata": {},
     "output_type": "execute_result"
    }
   ],
   "source": [
    "st.expon.pdf(1,scale=2)"
   ]
  },
  {
   "cell_type": "code",
   "execution_count": 3,
   "metadata": {},
   "outputs": [
    {
     "data": {
      "text/plain": [
       "(0.9999999999999242,\n",
       " array([  0.45841481,   0.48014578,   0.50264661,   0.52594655,\n",
       "          0.5500771 ,   0.57507217,   0.60096835,   0.62780505,\n",
       "          0.65562477,   0.68447333,   0.71440014,   0.74545851,\n",
       "          0.77770592,   0.81120438,   0.84602082,   0.88222747,\n",
       "          0.9199023 ,   0.95912949,   1.        ,   1.04261208,\n",
       "          1.08707197,   1.13349451,   1.182004  ,   1.23273496,\n",
       "          1.28583309,   1.34145628,   1.39977575,   1.46097731,\n",
       "          1.5252627 ,   1.59285116,   1.66398114,   1.73891217,\n",
       "          1.81792699,   1.90133388,   1.9894693 ,   2.08270082,\n",
       "          2.18143039,   2.28609803,   2.39718593,   2.51522309,\n",
       "          2.64079051,   2.7745271 ,   2.91713621,   3.06939317,\n",
       "          3.23215371,   3.40636349,   3.59306904,   3.79343002,\n",
       "          4.00873326,   4.24040883,   4.49004821,   4.75942526,\n",
       "          5.05052013,   5.36554672,   5.70698429,   6.0776138 ,\n",
       "          6.48055991,   6.91933952,   7.39791792,   7.92077407,\n",
       "          8.49297648,   9.12027153,   9.8091868 ,  10.56715178,\n",
       "         11.40263962,  12.32533361,  13.34632339,  14.47833659,\n",
       "         15.73601301,  17.13622995,  18.69848917,  20.44537824,\n",
       "         22.40312223,  24.60224479,  27.07836297,  29.87314486,\n",
       "         33.03546729,  36.62281882,  40.70300545,  45.35623041,\n",
       "         50.67763786,  56.78043384,  63.79972779,  71.89727649,\n",
       "         81.26736228,  92.14410169, 104.81056468]),\n",
       " array([1.53800207e-12, 2.38988048e-12, 3.69514553e-12, 5.68672957e-12,\n",
       "        8.71378150e-12, 1.32983905e-11, 2.02196202e-11, 3.06379351e-11,\n",
       "        4.62793898e-11, 6.97082864e-11, 1.04730901e-10, 1.56993591e-10,\n",
       "        2.34869520e-10, 3.50774532e-10, 5.23122159e-10, 7.79232128e-10,\n",
       "        1.15966416e-09, 1.72468670e-09, 2.56395056e-09, 3.81098542e-09,\n",
       "        5.66497154e-09, 8.42351503e-09, 1.25321113e-08, 1.86589889e-08,\n",
       "        2.78086674e-08, 4.14947441e-08, 6.20035764e-08, 9.27978935e-08,\n",
       "        1.39136513e-07, 2.09028887e-07, 3.14710108e-07, 4.74927579e-07,\n",
       "        7.18497576e-07, 1.08985505e-06, 1.65774193e-06, 2.52885261e-06,\n",
       "        3.86933220e-06, 5.93875037e-06, 9.14394729e-06, 1.41246108e-05,\n",
       "        2.18896310e-05, 3.40348593e-05, 5.30915601e-05, 8.30848827e-05,\n",
       "        1.30429960e-04, 2.05370593e-04, 3.24288904e-04, 5.13410040e-04,\n",
       "        8.14733851e-04, 1.29550428e-03, 2.06326117e-03, 3.28962203e-03,\n",
       "        5.24755473e-03, 8.36917376e-03, 1.33341175e-02, 2.12022396e-02,\n",
       "        3.36080968e-02, 5.30369611e-02, 8.31994567e-02, 1.29508087e-01,\n",
       "        1.99623508e-01, 3.03966785e-01, 4.55970385e-01, 6.71658746e-01,\n",
       "        9.67934959e-01, 1.35879998e+00, 1.84885629e+00, 2.42418269e+00,\n",
       "        3.04234821e+00, 3.62594108e+00, 4.06652909e+00, 4.24597664e+00,\n",
       "        4.07622130e+00, 3.54579330e+00, 2.74722668e+00, 1.85799257e+00,\n",
       "        1.07114120e+00, 5.11829209e-01, 1.96095932e-01, 5.79138887e-02,\n",
       "        1.25816234e-02, 1.90145431e-03, 1.86998503e-04, 1.10464715e-05,\n",
       "        3.55974317e-07, 5.57133504e-09, 3.67926247e-11]),\n",
       " array([-4.7812500e-01, -4.5156250e-01, -4.2500000e-01, -3.9843750e-01,\n",
       "        -3.7187500e-01, -3.4531250e-01, -3.1875000e-01, -2.9218750e-01,\n",
       "        -2.6562500e-01, -2.3906250e-01, -2.1250000e-01, -1.8593750e-01,\n",
       "        -1.5937500e-01, -1.3281250e-01, -1.0625000e-01, -7.9687500e-02,\n",
       "        -5.3125000e-02, -2.6562500e-02,  4.4408921e-16,  2.6562500e-02,\n",
       "         5.3125000e-02,  7.9687500e-02,  1.0625000e-01,  1.3281250e-01,\n",
       "         1.5937500e-01,  1.8593750e-01,  2.1250000e-01,  2.3906250e-01,\n",
       "         2.6562500e-01,  2.9218750e-01,  3.1875000e-01,  3.4531250e-01,\n",
       "         3.7187500e-01,  3.9843750e-01,  4.2500000e-01,  4.5156250e-01,\n",
       "         4.7812500e-01,  5.0468750e-01,  5.3125000e-01,  5.5781250e-01,\n",
       "         5.8437500e-01,  6.1093750e-01,  6.3750000e-01,  6.6406250e-01,\n",
       "         6.9062500e-01,  7.1718750e-01,  7.4375000e-01,  7.7031250e-01,\n",
       "         7.9687500e-01,  8.2343750e-01,  8.5000000e-01,  8.7656250e-01,\n",
       "         9.0312500e-01,  9.2968750e-01,  9.5625000e-01,  9.8281250e-01,\n",
       "         1.0093750e+00,  1.0359375e+00,  1.0625000e+00,  1.0890625e+00,\n",
       "         1.1156250e+00,  1.1421875e+00,  1.1687500e+00,  1.1953125e+00,\n",
       "         1.2218750e+00,  1.2484375e+00,  1.2750000e+00,  1.3015625e+00,\n",
       "         1.3281250e+00,  1.3546875e+00,  1.3812500e+00,  1.4078125e+00,\n",
       "         1.4343750e+00,  1.4609375e+00,  1.4875000e+00,  1.5140625e+00,\n",
       "         1.5406250e+00,  1.5671875e+00,  1.5937500e+00,  1.6203125e+00,\n",
       "         1.6468750e+00,  1.6734375e+00,  1.7000000e+00,  1.7265625e+00,\n",
       "         1.7531250e+00,  1.7796875e+00,  1.8062500e+00]),\n",
       " 0.0265625,\n",
       " 0)"
      ]
     },
     "execution_count": 3,
     "metadata": {},
     "output_type": "execute_result"
    }
   ],
   "source": [
    "nm.deformula().integrate(st.gamma.pdf, (0,np.inf), scale=2, a=10)"
   ]
  },
  {
   "cell_type": "code",
   "execution_count": 4,
   "metadata": {},
   "outputs": [
    {
     "data": {
      "text/plain": [
       "(0.03182805730618023,\n",
       " array([ 0.48493359,  0.70215471,  0.98600629,  1.34490983,  1.78411621,\n",
       "         2.30426647,  2.90023944,  3.56060034,  4.26791008,  5.        ,\n",
       "         5.73208992,  6.43939966,  7.09976056,  7.69573353,  8.21588379,\n",
       "         8.65509017,  9.01399371,  9.29784529,  9.51506641,  9.67580429,\n",
       "         9.79068011,  9.86983434,  9.92229416,  9.95563496,  9.97588013,\n",
       "         9.98757428,  9.99396767,  9.99725717,  9.99883986,  9.99954692,\n",
       "         9.99983797,  9.99994741,  9.99998466,  9.99999602,  9.99999909,\n",
       "         9.99999982,  9.99999997, 10.        , 10.        , 10.        ,\n",
       "        10.        ]),\n",
       " array([6.25369821e-12, 2.08684357e-10, 4.94515512e-09, 8.40638529e-08,\n",
       "        1.03423292e-06, 9.29276993e-06, 6.16375034e-05, 3.05900211e-04,\n",
       "        1.15529613e-03, 3.38860327e-03, 7.90005857e-03, 1.50091402e-02,\n",
       "        2.38352243e-02, 3.24234239e-02, 3.86418688e-02, 4.11556695e-02,\n",
       "        3.98348031e-02, 3.55226159e-02, 2.95008465e-02, 2.30024857e-02,\n",
       "        1.69363266e-02, 1.18180302e-02, 7.82906866e-03, 4.92417109e-03,\n",
       "        2.93605433e-03, 1.65480695e-03, 8.77972697e-04, 4.36185620e-04,\n",
       "        2.01641166e-04, 8.61103154e-05, 3.36946061e-05, 1.19721342e-05,\n",
       "        3.82447033e-06, 1.08648790e-06, 2.71235739e-07, 5.87298917e-08,\n",
       "        1.08728214e-08, 1.69426270e-09, 2.18425517e-10, 2.28621354e-11,\n",
       "        1.90297592e-12]),\n",
       " array([-0.84375, -0.75   , -0.65625, -0.5625 , -0.46875, -0.375  ,\n",
       "        -0.28125, -0.1875 , -0.09375,  0.     ,  0.09375,  0.1875 ,\n",
       "         0.28125,  0.375  ,  0.46875,  0.5625 ,  0.65625,  0.75   ,\n",
       "         0.84375,  0.9375 ,  1.03125,  1.125  ,  1.21875,  1.3125 ,\n",
       "         1.40625,  1.5    ,  1.59375,  1.6875 ,  1.78125,  1.875  ,\n",
       "         1.96875,  2.0625 ,  2.15625,  2.25   ,  2.34375,  2.4375 ,\n",
       "         2.53125,  2.625  ,  2.71875,  2.8125 ,  2.90625]),\n",
       " 0.09375,\n",
       " 0)"
      ]
     },
     "execution_count": 4,
     "metadata": {},
     "output_type": "execute_result"
    }
   ],
   "source": [
    "nm.deformula().integrate(st.gamma.pdf, (0,10), scale=2, a=10)"
   ]
  },
  {
   "cell_type": "code",
   "execution_count": 5,
   "metadata": {},
   "outputs": [],
   "source": [
    "import functools"
   ]
  },
  {
   "cell_type": "code",
   "execution_count": 6,
   "metadata": {},
   "outputs": [],
   "source": [
    "Q=sp.csc_matrix(np.array([[-5,2,3],[2,-3,1],[1,1,-2]], dtype=np.float))\n",
    "dQ = np.array([[-1,1,0],[0,0,0],[0,0,0]], dtype=np.float)"
   ]
  },
  {
   "cell_type": "code",
   "execution_count": 7,
   "metadata": {},
   "outputs": [],
   "source": [
    "x0=np.array([1,0,0])\n",
    "t=np.linspace(0, 1, num=100)\n",
    "rwd=np.array([1,10,0])"
   ]
  },
  {
   "cell_type": "code",
   "execution_count": 8,
   "metadata": {},
   "outputs": [],
   "source": [
    "v=nm.tprob(Q=Q, x0=x0, t=t)"
   ]
  },
  {
   "cell_type": "code",
   "execution_count": 9,
   "metadata": {},
   "outputs": [],
   "source": [
    "x=nm.trwd(Q=Q, x0=x0, t=t, rwd=rwd, trans=False)"
   ]
  },
  {
   "cell_type": "code",
   "execution_count": 10,
   "metadata": {},
   "outputs": [
    {
     "data": {
      "image/png": "[encoded data removed]",
      "text/plain": [
       "<Figure size 432x288 with 1 Axes>"
      ]
     },
     "metadata": {
      "needs_background": "light"
     },
     "output_type": "display_data"
    }
   ],
   "source": [
    "plt.plot(x['t'], x['irwd'])\n",
    "plt.show()"
   ]
  },
  {
   "cell_type": "code",
   "execution_count": 11,
   "metadata": {},
   "outputs": [
    {
     "name": "stdout",
     "output_type": "stream",
     "text": [
      "[0.2173913  0.30434783 0.47826087]\n"
     ]
    }
   ],
   "source": [
    "pis = nm.sprob(Q)\n",
    "print(pis)"
   ]
  },
  {
   "cell_type": "code",
   "execution_count": 12,
   "metadata": {},
   "outputs": [
    {
     "data": {
      "text/plain": [
       "array([-0.02835539,  0.04725898, -0.01890359])"
      ]
     },
     "execution_count": 12,
     "metadata": {},
     "output_type": "execute_result"
    }
   ],
   "source": [
    "nm.ssen(Q, b=pis @ dQ, pis=pis)"
   ]
  },
  {
   "cell_type": "code",
   "execution_count": 13,
   "metadata": {},
   "outputs": [
    {
     "data": {
      "text/plain": [
       "array([[0.84116745, 0.06327712, 0.09555543],\n",
       "       [0.06071808, 0.89804698, 0.04123494],\n",
       "       [0.03355783, 0.03611687, 0.9303253 ]])"
      ]
     },
     "execution_count": 13,
     "metadata": {},
     "output_type": "execute_result"
    }
   ],
   "source": [
    "nm.nctmc(Q).mexpAx_mix(f=st.gamma.pdf, scale=0.01, a=1)"
   ]
  },
  {
   "cell_type": "code",
   "execution_count": 14,
   "metadata": {},
   "outputs": [],
   "source": [
    "Q11=nm.array([[-5,2,3],[2,-3,1],[1,1,-2]])\n",
    "Q12=nm.eye(3)\n",
    "Q2=nm.zeros((3,6))"
   ]
  },
  {
   "cell_type": "code",
   "execution_count": 15,
   "metadata": {},
   "outputs": [
    {
     "data": {
      "text/plain": [
       "array([[-5.,  2.,  3.,  1.,  0.,  0.],\n",
       "       [ 2., -3.,  1.,  0.,  1.,  0.],\n",
       "       [ 1.,  1., -2.,  0.,  0.,  1.],\n",
       "       [ 0.,  0.,  0.,  0.,  0.,  0.],\n",
       "       [ 0.,  0.,  0.,  0.,  0.,  0.],\n",
       "       [ 0.,  0.,  0.,  0.,  0.,  0.]])"
      ]
     },
     "execution_count": 15,
     "metadata": {},
     "output_type": "execute_result"
    }
   ],
   "source": [
    "Q = nm.rblock(nm.cblock(Q11, Q12), Q2)\n",
    "Q.tocoo().toarray()"
   ]
  },
  {
   "cell_type": "code",
   "execution_count": null,
   "metadata": {},
   "outputs": [],
   "source": []
  }
 ],
 "metadata": {
  "kernelspec": {
   "display_name": "Python 3",
   "language": "python",
   "name": "python3"
  },
  "language_info": {
   "codemirror_mode": {
    "name": "ipython",
    "version": 3
   },
   "file_extension": ".py",
   "mimetype": "text/x-python",
   "name": "python",
   "nbconvert_exporter": "python",
   "pygments_lexer": "ipython3",
   "version": "3.7.3"
  }
 },
 "nbformat": 4,
 "nbformat_minor": 2
}
